{
 "cells": [
  {
   "cell_type": "raw",
   "metadata": {},
   "source": [
    "# Parámetros\n",
    "\n",
    "* No convertir los números a cadenas para poderlos descomponer.\n",
    "* Cuando se pregunta por ejemplo un número entero de tres dígitos, se está refiriendo a los números enteros -999, -998, ..., -101, -100, 100, 101, ..., 998 y 999.\n",
    "* Cuando se pregunta por ejemplo un número entero de máximo tres dígitos, se está refiriendo a los números enteros -999, -998, ..., -2, -1, 0, 1, 2, ..., 998 y 999.\n",
    "* Los números primos son los números naturales 2, 3, 5, 7, 11, 13, 17, 19, 23, ...\n",
    "* La serie de Fibonacci está dada por: 0, 1, 1, 2, 3, 5, 8, 13, 21, ...\n",
    "* Tener en cuenta que muchos de los ejercicios solicitan cálculos sobre los números enteros; no sobre los números naturales; por lo tanto, es necesario tener en cuenta los números enteros negativos, cuando sea del caso.\n",
    "* Se dice que 3, 4, 5 y 6 son los números enteros comprendidos entre el 3 y el 6.\n",
    "* Del número 349857 se puede decir que el 3 es su primer dígito, el 4 es su segundo dígito, el 5 es su penúltimo dígito y el 7 es su último dígito.\n",
    "* No utilizar el método count() de listas, a menos que se diga lo contrario.\n",
    "* Desarrollar algoritmos con el mayor grado de generalidad posible."
   ]
  },
  {
   "cell_type": "markdown",
   "metadata": {},
   "source": [
    "## Decisiones y Ciclos"
   ]
  },
  {
   "cell_type": "raw",
   "metadata": {},
   "source": [
    "4) Leer un número entero positivo y determinar la suma de sus dígitos pares. Por ejemplo, en el número 124, los dígitos\n",
    "pares son el 2 y el 4 y su suma vale 6."
   ]
  },
  {
   "cell_type": "code",
   "execution_count": null,
   "metadata": {},
   "outputs": [],
   "source": [
    "while True:\n",
    "    try:\n",
    "        num= int(input('Escriba un número entero positivo: '))\n",
    "        if num > 0:\n",
    "            break\n",
    "        else:\n",
    "            print('No se permite el ingreso de enteros negativos')\n",
    "    except ValueError:\n",
    "            print('No es entero positivo')\n",
    "\n",
    "suma = 0\n",
    "while num != 0:\n",
    "    if ((num%10)%2)==0:\n",
    "        suma += (num%10)\n",
    "    num //= 10\n",
    "\n",
    "print(f'la suma de sus digitos pares es {suma} ')"
   ]
  },
  {
   "cell_type": "raw",
   "metadata": {},
   "source": [
    "\n",
    "\n",
    "5) Leer un número entero y determinar el número de cincos que están consecutivos en un número. Por ejemplo, en 5512355551 hay 6 cincos consecutivos. Ahora, en 234555234512 solo hay 3 cincos consecutivos."
   ]
  },
  {
   "cell_type": "code",
   "execution_count": null,
   "metadata": {},
   "outputs": [],
   "source": [
    "nro1 = 55123555551\n",
    "nro2 = 234555234512\n",
    "nro3 = 5525515555335\n",
    "Nro = int(input(\"Ingrese un numero: \"))\n",
    "nro = str(Nro)\n",
    "count = 0\n",
    "\n",
    "band = []\n",
    "\n",
    "for i in range(len(nro)-1):\n",
    "    if nro[i] == \"5\":\n",
    "        if nro[i] == nro[i+1]:\n",
    "            count = count + 1\n",
    "            if i+2 < len(nro):\n",
    "                if nro[i+2] != \"5\":\n",
    "                    count += 1     \n",
    "print(\"En el numero \",nro,\" hay \",count,\"cincos consecutivos\")\n",
    "            "
   ]
  },
  {
   "cell_type": "raw",
   "metadata": {},
   "source": [
    "6) Leer un número entero y determinar si la suma de sus dígitos es un número de Fibonacci."
   ]
  },
  {
   "cell_type": "code",
   "execution_count": null,
   "metadata": {},
   "outputs": [],
   "source": [
    "def Fibonacci(num):\n",
    "    pre = 0\n",
    "    pos = 1\n",
    "    pert = False\n",
    "    \n",
    "    while (pre <= num):\n",
    "        \n",
    "        if(pre == num):\n",
    "            pert = True\n",
    "        \n",
    "        suma = pre + pos\n",
    "        pre = pos\n",
    "        pos = suma\n",
    "    \n",
    "    return(pert)\n",
    "    \n",
    "num = int(input('ingrese un número entero: '))\n",
    "\n",
    "if(Fibonacci(num)):\n",
    "    print('VALIDO,',num,' hace parte a la serie de Fibonacci')\n",
    "else:\n",
    "    print('ERROR,',num,' no hace parte a la serie de Fibonacci')"
   ]
  },
  {
   "cell_type": "raw",
   "metadata": {},
   "source": [
    "8) Iterar a través de los primeros cien enteros positivos, buscando los múltiplos de 3 e imprimiendo y almacenándolos en una lista hasta encontrar los primeros 15 de ellos. Una vez encontrados, continuar iterando en busca de los múltiplos de 4 y almacenarlos en otra lista."
   ]
  },
  {
   "cell_type": "code",
   "execution_count": 75,
   "metadata": {},
   "outputs": [
    {
     "name": "stdout",
     "output_type": "stream",
     "text": [
      "Múltiplos de 3 [3, 6, 9, 12, 15, 18, 21, 24, 27, 30, 33, 36, 39, 42, 45]\n",
      "Múltiplos de 4 [48, 52, 56, 60, 64, 68, 72, 76, 80, 84, 88, 92, 96]\n"
     ]
    }
   ],
   "source": [
    "div_3=[]\n",
    "div_4=[]\n",
    "\n",
    "for i in range(1,101):\n",
    "    if i% 3==0 and len(div_3)<15:\n",
    "        div_3.append(i)\n",
    "    elif (i % 4==0) and (len(div_3)== 15) and (len(div_4) < 15):\n",
    "            div_4.append(i)\n",
    "      \n",
    "print(' la lista con los 15 numeros divisibles entre 3 es:', div_3)        \n",
    "print(' la lista con los 15 numeros divisibles entre 4 es:', div_4)"
   ]
  },
  {
   "cell_type": "raw",
   "metadata": {},
   "source": [
    "9) Hacer un programa que lea las coordenadas (x1,y1,r1) y (x2,y2,r2) que corresponden al centro y al radio de dos círculos. Lea un punto de coordenadas (a,b). Determina si (a,b) está contenido: \n",
    "    * dentro del círculo 1; \n",
    "    * dentro del círculo 2; \n",
    "    * dentro de ambos círculos; \n",
    "    * fuera de ambos círculos. Recordemos que el círculo es el lugar geométrico de los puntos del plano cuya \n",
    "      distancia a otro punto fijo, llamado centro, es menor o igual que una cantidad constante, llamada radio."
   ]
  },
  {
   "cell_type": "code",
   "execution_count": 2,
   "metadata": {},
   "outputs": [
    {
     "name": "stdout",
     "output_type": "stream",
     "text": [
      "CREACION DE LOS CIRCULOS\n",
      "\n",
      "El circulo 1 esta centrado sobre (x1, y1) y su radio es de r1\n",
      "Deme la coordenada x1:1\n",
      "Deme la coordenada y1:2\n",
      "Deme el radio del circulo r1: 4\n",
      "\n",
      "El circulo 2 esta centrado sobre (x2, y2) y su radio es de r2\n",
      "Deme la coordenada x2:3\n",
      "Deme la coordenada y2:4\n",
      "Deme el radio del circulo r2: 6\n",
      "\n",
      "Los parámetros para el circulo 1 y circulo 2 son respectivamente:\n",
      "   (x , y , r )\n",
      "1) (1.0, 2.0, 4.0)\n",
      "2) (3.0, 4.0, 6.0)\n",
      "Desea Cambiar los valores?: Si = 1, No = 0 0\n",
      "\n",
      "SELECCION DEL PUNTO\n",
      "\n",
      "Las coordenadas (a,b) corresponden a el punto en (x,y) respectivamente\n",
      "Ingrese la coordenada a: 3\n",
      "Ingrese la coordenada b: 20\n",
      "Las coordenadas seleccionadas (a,b) son: (3, 20)\n",
      "Desea Cambiar los valores?: Si = 1, No = 0 0\n",
      "\n",
      " RESULTADO \n",
      "\n",
      "El punto  (3, 20) No está en ningún círculo\n"
     ]
    }
   ],
   "source": [
    "\n",
    "\n",
    "\n",
    "print(\"CREACION DE LOS CIRCULOS\")\n",
    "band = 1\n",
    "while band != 0:\n",
    "    print()\n",
    "    print(\"El circulo 1 esta centrado sobre (x1, y1) y su radio es de r1\")\n",
    "    x1 = float(input(\"Deme la coordenada x1:\"))\n",
    "    y1 = float(input(\"Deme la coordenada y1:\"))\n",
    "    r1 = float(input(\"Deme el radio del circulo r1: \"))\n",
    "    print()\n",
    "    \n",
    "    print(\"El circulo 2 esta centrado sobre (x2, y2) y su radio es de r2\")\n",
    "    x2 = float(input(\"Deme la coordenada x2:\"))\n",
    "    y2 = float(input(\"Deme la coordenada y2:\"))\n",
    "    r2 = float(input(\"Deme el radio del circulo r2: \"))\n",
    "    print()\n",
    "    \n",
    "    Circulo1 = (x1, y1, r1)\n",
    "    Circulo2 = (x2, y2, r2)\n",
    "    \n",
    "    print(\"Los parámetros para el circulo 1 y circulo 2 son respectivamente:\") \n",
    "    print(\"   (x , y , r )\")\n",
    "    print(\"1)\",Circulo1)\n",
    "    print(\"2)\",Circulo2)\n",
    "    band = int(input(\"Desea Cambiar los valores?: Si = 1, No = 0 \"))\n",
    "    while band != 0 and band != 1:\n",
    "        print(\"Valor incorrecto inténtalo de nuevo\")\n",
    "        band = int(input(\"Desea Cambiar los valores?: (Si = 1, No = 0): \"))\n",
    "\n",
    "        \n",
    "print()\n",
    "print(\"SELECCION DEL PUNTO\\n\")  ##por si no sabe el \"\\n\" me cambia de renglón\n",
    "Band = 1\n",
    "while Band != 0:\n",
    "    print(\"Las coordenadas (a,b) corresponden a el punto en (x,y) respectivamente\")\n",
    "    a = int(input(\"Ingrese la coordenada a: \"))\n",
    "    b = int(input(\"Ingrese la coordenada b: \"))\n",
    "    cord = (a,b)                                  ##Coordenadas (a,b)\n",
    "    print(\"Las coordenadas seleccionadas (a,b) son:\", cord)\n",
    "    Band = int(input(\"Desea Cambiar los valores?: Si = 1, No = 0 \"))\n",
    "    while band != 0 and band != 1:\n",
    "        print(\"Valor incorrecto inténtalo de nuevo\")\n",
    "        Band = int(input(\"Desea Cambiar los valores?: (Si = 1, No = 0): \"))\n",
    "        print()\n",
    "\n",
    "dist1 = ( (x1 - a)**2 + (y1 - b)**2 )**(1/2)\n",
    "dist2 = ( (x2 - a)**2 + (y2 - b)**2 )**(1/2)\n",
    "\n",
    "print(\"\\n RESULTADO \\n\")\n",
    "\n",
    "if dist1 <= r1:\n",
    "    if dist2 <= r2:\n",
    "        print(\"El punto \", cord, \"Esta dentro de los 2 círculos\")\n",
    "    else:\n",
    "        print(\"El punto \", cord, \"Está dentro del círculo 1\")\n",
    "if dist2 <= r2:\n",
    "    print(\"El punto \", cord, \"Está dentro del círculo 2\")\n",
    "    \n",
    "if dist1 > r1:\n",
    "    if dist2 > r2:\n",
    "        print(\"El punto \", cord, \"No está en ningún círculo\")\n",
    "        \n",
    "    "
   ]
  },
  {
   "cell_type": "markdown",
   "metadata": {},
   "source": [
    "## Cadenas"
   ]
  },
  {
   "cell_type": "raw",
   "metadata": {},
   "source": [
    "10) Sin utilizar el método .upper() para cadenas, escribir un programa que lea una cadena de texto y la imprima en mayúscula. Tenga en cuenta que el programa debe aceptar las letras con tilde, la ñ y la ü."
   ]
  },
  {
   "cell_type": "code",
   "execution_count": null,
   "metadata": {},
   "outputs": [],
   "source": [
    "cadena =(input('ingrese la cadena:')).lower()\n",
    "print(cadena.swapcase())"
   ]
  },
  {
   "cell_type": "markdown",
   "metadata": {},
   "source": [
    "11) Escribir un programa que reciba una cadena de texto y reporte:\n",
    "\n",
    "    * cuántas letras vocales en mayúscula se entraron;\n",
    "    * cuántas letras con tilde se entraron (minúsculas y mayúsculas);\n",
    "    * cuántos dígitos se entraron;\n",
    "    * cuántos espacios se entraron;\n",
    "    * cuántas palabras reservadas se entraron."
   ]
  },
  {
   "cell_type": "code",
   "execution_count": 72,
   "metadata": {},
   "outputs": [
    {
     "name": "stdout",
     "output_type": "stream",
     "text": [
      "Ingrese su texto:\n",
      "este es un experimento python el ciclo para se escribe for\n",
      "\n",
      "para el texto \n",
      " este es un experimento python el ciclo para se escribe for\n",
      "\n",
      "Tenemos\n",
      "Cantidad de Vocales mayúsculas: 0\n",
      "Cantidad de letras con tílde 0\n",
      "Cantidad de dígitos:  0\n",
      "Cantidad de Espacios:  10\n",
      "Cantidad de palabras reservadas 1\n"
     ]
    }
   ],
   "source": [
    "from keyword import kwlist\n",
    "\n",
    "txt = str(input(\"Ingrese su texto:\\n\"))\n",
    "vocales = (\"A\",\"E\",\"I\",\"O\",\"U\",\"Á\",\"É\",\"Í\",\"Ó\",\"Ú\")\n",
    "tildes = (\"Á\",\"É\",\"Í\",\"Ó\",\"Ú\",\"á\",\"é\",\"í\",\"ó\",\"ú\")\n",
    "\n",
    "\n",
    "cont = [0,0,0,0,0]   ## (Vocales en mayus, letras con tílde, dígitos, Espacios, Keywords)\n",
    "\n",
    "for i in txt:\n",
    "    if i.isupper():\n",
    "        if i in vocales:\n",
    "            cont[0] += 1\n",
    "    if i in tildes:\n",
    "        cont[1] += 1\n",
    "    if i.isdigit():\n",
    "        cont[2] += 1\n",
    "    if i == \" \":\n",
    "        cont[3] += 1\n",
    "for i in kwlist:\n",
    "    if i in txt.split():\n",
    "        cont[4] +=1\n",
    "print()\n",
    "print(\"para el texto \\n\",txt)\n",
    "print(\"\\nTenemos\")\n",
    "print(\"Cantidad de Vocales mayúsculas:\",cont[0])\n",
    "print(\"Cantidad de letras con tílde\", cont[1])\n",
    "print(\"Cantidad de dígitos: \", cont[2])\n",
    "print(\"Cantidad de Espacios: \", cont[3])\n",
    "print(\"Cantidad de palabras reservadas\", cont[4])"
   ]
  },
  {
   "cell_type": "raw",
   "metadata": {
    "slideshow": {
     "slide_type": "-"
    }
   },
   "source": [
    "12) Hacer un programa que lea dos palabras (podrían estar en mayúscula o minúscula) y determine cual está primero en el diccionario. El programa debe soportar letras con tilde, la ü y la ñ."
   ]
  },
  {
   "cell_type": "code",
   "execution_count": null,
   "metadata": {},
   "outputs": [],
   "source": [
    "\n",
    "abc = 'abcdefghijklmnñopqrstuvwxyz'\n",
    "reemplazar = (('á','a'),\n",
    "              ('é','e'),\n",
    "              ('í','i'),\n",
    "              ('ó','o'),\n",
    "              ('ú','u'),\n",
    "              ('ü','u'))\n",
    "word1 = str(input(\"Ingrese la palabra 1:\"))\n",
    "word2 = str(input(\"Ingrese la palabra 2:\"))\n",
    "w1 = word1\n",
    "w2 = word2\n",
    "\n",
    "\n",
    "word1 = word1.lower()\n",
    "word2 = word2.lower()\n",
    "while word1 == word2:\n",
    "    print(\"las dos palabras son lo mismo vuelve a intentarlo\")\n",
    "    word1 = str(input(\"Ingrese la palabra 1:\"))\n",
    "    word2 = str(input(\"Ingrese la palabra 2:\"))\n",
    "\n",
    "\n",
    "for a,b in reemplazar:\n",
    "    word1 = word1.replace(a, b)#.replace(a.lower(), b.lower())\n",
    "    word2 = word2.replace(a, b)#.replace(a.lower(), b.lower())\n",
    "\n",
    "\n",
    "band = 3\n",
    "i = 0\n",
    "l1 = -1\n",
    "l2 = -1\n",
    "while band != 1:            \n",
    "    if l1 != l2:\n",
    "        band = 1\n",
    "    else:    \n",
    "        if i >= len(word1):\n",
    "            band = 1\n",
    "            l1 = 2\n",
    "            l2 = 3\n",
    "        if i >= len(word2):\n",
    "            band = 1\n",
    "            l1 = 2\n",
    "            l2 = 1\n",
    "            \n",
    "    while l1 < 0 or l2 < 0:\n",
    "        for j in range(len(abc)):\n",
    "            if word1[i] == abc[j]:\n",
    "                l1 = j\n",
    "            if word2[i] == abc[j]:\n",
    "                l2 = j\n",
    "    i +=1\n",
    "\n",
    "    \n",
    "if l1 < l2:\n",
    "    print(\"Primera palabra:\", w1)\n",
    "    print(\"Segunda palabra:\", w2)\n",
    "elif l2 < l1:\n",
    "    print(\"Primera palabra:\", w2)\n",
    "    print(\"Segunda palabra:\", w1)\n",
    "else:\n",
    "    print(\"las dos palabras son iguales\")"
   ]
  },
  {
   "cell_type": "raw",
   "metadata": {},
   "source": [
    "13) Escribir un programa que lea una cadena de texto y la imprima como un triángulo. Por ejemplo, si la cadena entrada es: \"Es una locura odiar a todas las rosas porque una te pinchó: renunciar a todos tus sueños porque uno de ellos no se realizó - El Principito\", el programa debe imprimir:"
   ]
  },
  {
   "cell_type": "code",
   "execution_count": null,
   "metadata": {
    "slideshow": {
     "slide_type": "-"
    }
   },
   "outputs": [],
   "source": [
    "txt = \"Es una locura odiar a todas las rosas porque una te pinchó: renunciar a todos tus sueños porque uno de ellos no se realizó - El Principito\"\n",
    "txt.replace(' ','')\n",
    "\n",
    "k = -1\n",
    "while len(txt) > n:\n",
    "    k += 1\n",
    "    n = 2*(k + 1)\n",
    "\n",
    "\n"
   ]
  },
  {
   "cell_type": "raw",
   "metadata": {},
   "source": [
    "14) Leer una cadena de texto y organice alfabéticamente cada una de las letras que la componen, repitiendo cada una tantas veces como se encuentra. Por ejemplo, la cadena ‘tarea importante’ será ‘aaaeeimnoprrttt’. (Note que no se incluyen los espacios)."
   ]
  },
  {
   "cell_type": "code",
   "execution_count": 77,
   "metadata": {},
   "outputs": [
    {
     "name": "stdout",
     "output_type": "stream",
     "text": [
      "ingrese su texto: Ensayo del Programa\n",
      "RESULTADO: \n",
      " aaadeglmnoorrsy\n"
     ]
    }
   ],
   "source": [
    "abc = 'abcdefghijklmnñopqrstuvwxyz'\n",
    "txt = str(input(\"ingrese su texto: \"))\n",
    "reemplazar = (('á','a'),\n",
    "              ('é','e'),\n",
    "              ('í','i'),\n",
    "              ('ó','o'),\n",
    "              ('ú','u'),\n",
    "              ('ü','u'))\n",
    "\n",
    "for a,b in reemplazar:\n",
    "    txt = txt.replace(a, b)\n",
    "txt = txt.replace(' ','')\n",
    "\n",
    "nwtxt = \"\"\n",
    "for i in abc:\n",
    "    for j in range(len(txt)):\n",
    "        if i == txt[j]:\n",
    "            nwtxt += i\n",
    "print(\"RESULTADO: \\n\", nwtxt)"
   ]
  },
  {
   "cell_type": "markdown",
   "metadata": {},
   "source": [
    "# Listas\n",
    "15) Leer una lista de números enteros y enumerar cuantos elementos se repiten exactamente dos veces. Utilizar para tal fin el método count() de listas."
   ]
  },
  {
   "cell_type": "code",
   "execution_count": 76,
   "metadata": {},
   "outputs": [
    {
     "name": "stdout",
     "output_type": "stream",
     "text": [
      "ingrese su lista de numeros, separelos con una coma ejemplo 1,23,4 --> [1,23,4]: 3, 4, 5, 5, 6, 9, 11, 12\n",
      "Su lista es: [3, 4, 5, 5, 6, 9, 11, 12]\n",
      "numeros que se repiten 2 veces: [5]\n"
     ]
    }
   ],
   "source": [
    "n = str(input(\"ingrese su lista de numeros, separelos con una coma ejemplo 1,23,4 --> [1,23,4]: \"))\n",
    "lista = n.split(\",\")\n",
    "\n",
    "for i in range(len(lista)):\n",
    "    lista[i] = int(lista[i])\n",
    "\n",
    "print(\"Su lista es:\",lista)\n",
    "rep = []\n",
    "for i in range(min(lista), max(lista)+1):\n",
    "    if lista.count(i) == 2:\n",
    "        rep.append(i)\n",
    "print(\"numeros que se repiten 2 veces:\",rep)"
   ]
  },
  {
   "cell_type": "raw",
   "metadata": {},
   "source": [
    "16) Leer una lista de números ya ordenados de forma ascendente y verificar que dicha lista está ordenada. Luego, leer un número e insertarlo en la lista en la posición que le corresponde a dicho número."
   ]
  },
  {
   "cell_type": "code",
   "execution_count": 8,
   "metadata": {},
   "outputs": [
    {
     "name": "stdout",
     "output_type": "stream",
     "text": [
      "ingrese su lista de numeros, separelos con una coma ejemplo --> 1,23,4 = [1,23,4]: 1,2,3,4,5\n",
      "Ingrese el numero a insertar en la lista ordenada:2\n",
      "\n",
      "La nueva lista es: [1, 2, 2, 3, 4, 5]\n"
     ]
    }
   ],
   "source": [
    "lista1 = [1,1,2,3,11,23,4,4]\n",
    "lista2 = [3,4,5,5,6,9,11]\n",
    "\n",
    "x = str(input(\"ingrese su lista de numeros, separelos con una coma ejemplo --> 1,23,4 = [1,23,4]: \"))\n",
    "lista = x.split(\",\")\n",
    "for i in range(len(lista)):\n",
    "    lista[i] = int(lista[i])\n",
    "    \n",
    "band = 1\n",
    "while band == 1:\n",
    "    band = 0\n",
    "    for i in range(1, len(lista)):\n",
    "        if lista[i-1] > lista[i]:\n",
    "            band = 1\n",
    "    if band == 1:\n",
    "        print(\"\\nLa lista no esta ordenada intentalo de nuevo\")\n",
    "        x = str(input(\"ingrese su lista de numeros, separelos con una coma ejemplo --> 1,23,4 = [1,23,4]: \"))\n",
    "        lista = x.split(\",\")\n",
    "        for i in range(len(lista)):\n",
    "            lista[i] = int(lista[i])\n",
    "        \n",
    "\n",
    "\n",
    "        \n",
    "n = int(input(\"Ingrese el numero a insertar en la lista ordenada:\"))\n",
    "\n",
    "if n >= max(lista):\n",
    "    lista.insert(len(lista),n)\n",
    "else:\n",
    "    i = 0\n",
    "    while i < len(lista):\n",
    "        if lista[i] >= n:\n",
    "            lista.insert(i,n)\n",
    "            i = len(lista) + 1\n",
    "        i += 1\n",
    "print(\"\\nLa nueva lista es:\", lista)"
   ]
  },
  {
   "cell_type": "raw",
   "metadata": {},
   "source": [
    "17) Leer una lista y determinar cuál es el segundo elemento más grande de dicha lista. No utilice ningún tipo de algoritmo de ordenamiento para realizar este ejercicio."
   ]
  },
  {
   "cell_type": "code",
   "execution_count": 55,
   "metadata": {},
   "outputs": [
    {
     "name": "stdout",
     "output_type": "stream",
     "text": [
      "ingrese su lista de numeros, separelos con una coma ejemplo --> 1,23,4 = [1,23,4]: 3, 4, 5, 5, 6, 9, 11, 12\n",
      "El segundo valor mas grande de la lista [3, 4, 5, 5, 6, 9, 11, 12] es: 11\n"
     ]
    }
   ],
   "source": [
    "x = str(input(\"ingrese su lista de numeros, separelos con una coma ejemplo --> 1,23,4 = [1,23,4]: \"))\n",
    "lista = x.split(\",\")\n",
    "for i in range(len(lista)):\n",
    "    lista[i] = int(lista[i])\n",
    "\n",
    "    \n",
    "a = tuple(lista)\n",
    "lista.remove(max(lista))\n",
    "\n",
    "max2 = max(lista)\n",
    "lista = list(a)\n",
    "print(\"El segundo valor mas grande de la lista\",lista,\"es:\",max2)"
   ]
  },
  {
   "cell_type": "markdown",
   "metadata": {},
   "source": [
    "18) Leer una matriz cuadrada A, obtener su matriz triangular superior asociada U y determinar qué fila de U contiene la mayor cantidad de unos."
   ]
  },
  {
   "cell_type": "code",
   "execution_count": 9,
   "metadata": {},
   "outputs": [
    {
     "name": "stdout",
     "output_type": "stream",
     "text": [
      "Matriz cuadrada\n",
      "[1, 2, 1, 1, 2, 3]\n",
      "[3, 1, 1, 1, 5, 2]\n",
      "[1, 1, 4, 1, 9, 4]\n",
      "[2, 3, 4, 5, 1, 1]\n",
      "[3, 1, 2, 3, 1, 1]\n",
      "[1, 1, 1, 1, 1, 1]\n",
      "Matriz Triangular superior\n",
      "[1, 2, 1, 1, 2, 3]\n",
      "[0, 1, 1, 1, 5, 2]\n",
      "[0, 0, 4, 1, 9, 4]\n",
      "[0, 0, 0, 5, 1, 1]\n",
      "[0, 0, 0, 0, 1, 1]\n",
      "[0, 0, 0, 0, 0, 1]\n",
      "Las filas con mayor cantidad de unos son:\n",
      "Fila : 1\n",
      "Fila : 2\n"
     ]
    }
   ],
   "source": [
    "import numpy as np\n",
    "matriz  =  [[1, 2, 1, 1, 2, 3],\n",
    "            [3, 1, 1, 1, 5, 2],\n",
    "            [1, 1, 4, 1, 9, 4],\n",
    "            [2, 3, 4, 5, 1, 1],\n",
    "            [3, 1, 2, 3, 1, 1],\n",
    "            [1, 1, 1, 1, 1, 1]]\n",
    "\n",
    "\n",
    "print(\"Matriz cuadrada\")\n",
    "for i in range(len(matriz)):\n",
    "    print(matriz[i])\n",
    "    \n",
    "for i in range(len(matriz)):\n",
    "    for j in range(len(matriz)):\n",
    "        if i>j:\n",
    "            matriz[i][j] = 0\n",
    "\n",
    "\n",
    "print(\"Matriz Triangular superior\")\n",
    "for i in range(len(matriz)):\n",
    "    print(matriz[i])\n",
    "\n",
    "MaxOnes = []\n",
    "for i in range(len(matriz)):\n",
    "    MaxOnes.append(matriz[i].count(1))\n",
    "\n",
    "    \n",
    "print(\"Las filas con mayor cantidad de unos son:\")\n",
    "for i in range(len(matriz)):\n",
    "    if MaxOnes[i] == max(MaxOnes):\n",
    "        print(\"Fila :\", i+1)"
   ]
  },
  {
   "cell_type": "markdown",
   "metadata": {},
   "source": [
    "19) Leer una lista e identifique la sublista más larga dentro de dicha lista que se encuentra ordenada ascendentemente. Por ejemplo, en la lista [5, 6, 5, 1, 2, 6, 9, 2, 4, 1] la mayor sublista ordenada es la [1, 2, 6, 9]."
   ]
  },
  {
   "cell_type": "code",
   "execution_count": 73,
   "metadata": {},
   "outputs": [
    {
     "data": {
      "text/plain": [
       "False"
      ]
     },
     "execution_count": 73,
     "metadata": {},
     "output_type": "execute_result"
    }
   ],
   "source": [
    "lista = [5, 6, 5, 1, 2, 6, 9, 2, 4, 1]\n",
    "for i in range(len(lista)):\n",
    "    "
   ]
  }
 ],
 "metadata": {
  "kernelspec": {
   "display_name": "Python 3",
   "language": "python",
   "name": "python3"
  },
  "language_info": {
   "codemirror_mode": {
    "name": "ipython",
    "version": 3
   },
   "file_extension": ".py",
   "mimetype": "text/x-python",
   "name": "python",
   "nbconvert_exporter": "python",
   "pygments_lexer": "ipython3",
   "version": "3.7.3"
  }
 },
 "nbformat": 4,
 "nbformat_minor": 2
}
